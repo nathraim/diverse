{
 "cells": [
  {
   "cell_type": "code",
   "execution_count": 1,
   "metadata": {},
   "outputs": [],
   "source": [
    "# -*- coding: utf-8 -*-\n",
    "# Initial code from https://moonbooks.org/Articles/Ecrire-un-code-en-python-pour-illustrer-le-d%C3%A9veloppement-limit%C3%A9-en-0-de-cosinus/\n",
    "import matplotlib.pyplot as plt\n",
    "import numpy as np\n",
    "import math\n",
    "import ipywidgets as widgets\n",
    "from ipywidgets import interact, interact_manual"
   ]
  },
  {
   "cell_type": "code",
   "execution_count": 2,
   "metadata": {},
   "outputs": [
    {
     "data": {
      "image/png": "[encoded data removed]",
      "text/plain": [
       "<Figure size 432x288 with 1 Axes>"
      ]
     },
     "metadata": {
      "needs_background": "light"
     },
     "output_type": "display_data"
    }
   ],
   "source": [
    "#----------------------------------------------------------------------------------------#\n",
    "# Part I:  Plot cosinus function\n",
    "\n",
    "xmin = -2.0*np.pi\n",
    "xmax =  2.0*np.pi\n",
    "\n",
    "#x = np.arange(xmin,xmax,0.1)\n",
    "#y = np.cos(x)\n",
    "\n",
    "#plt.plot(x,y)\n",
    "\n",
    "#ax = plt.gca()\n",
    "#ax.spines['left'].set_position('zero')\n",
    "#ax.spines['right'].set_color('none')\n",
    "#ax.spines['bottom'].set_position('zero')\n",
    "#ax.spines['top'].set_color('none')\n",
    "\n",
    "#plt.grid()\n",
    "#plt.xlim(xmin,xmax)\n",
    "#plt.ylim(-1.2,1.2)\n",
    "\n",
    "#plt.savefig(\"cosinus.png\", bbox_inches='tight')\n",
    "#plt.show()\n",
    "\n",
    "#----------------------------------------------------------------------------------------#\n",
    "# Part II:  Cosinus Taylor series Function\n",
    "\n",
    "def dl0_cosinus(x,n):\n",
    "    f = 0\n",
    "    for k in range(n+1):\n",
    "        f = f + ( (-1.0)**k / math.factorial(2.0*k) ) * x**(2.0*k)\n",
    "    return f\n",
    "\n",
    "def dl0_exp(x,n):\n",
    "    f = 0\n",
    "    for k in range(n+1):\n",
    "        f = f + ( 1 / math.factorial(k) ) * x**k\n",
    "    return f\n",
    "\n",
    "\n",
    "#----------------------------------------------------------------------------------------#\n",
    "# Part III:  Create a loop over n\n",
    "\n",
    "n = 2\n",
    "\n",
    "x = np.arange(xmin,xmax,0.1)\n",
    "y = np.cos(x)\n",
    "\n",
    "#plt.plot(x,y)\n",
    "\n",
    "ax = plt.gca()\n",
    "ax.spines['left'].set_position('zero')\n",
    "ax.spines['right'].set_color('none')\n",
    "ax.spines['bottom'].set_position('zero')\n",
    "ax.spines['top'].set_color('none')\n",
    "\n",
    "plt.grid()\n",
    "plt.xlim(xmin,xmax)\n",
    "plt.ylim(-1.2,1.2)\n",
    "\n",
    "def plot_dl_cos(n):\n",
    "    plt.xlim(xmin,xmax)\n",
    "    plt.ylim(-1.2,1.2)\n",
    "    x = np.arange(xmin,xmax,0.1)\n",
    "    y = np.cos(x)\n",
    "    plt.plot(x,y)\n",
    "    plt.grid()\n",
    "    y = dl0_cosinus(x,n)\n",
    "    plt.plot(x,y)\n",
    "    plt.title(u\"Développement limité de la fonction cosinus ( n =  \"+str(n) +\")\")\n",
    "    #plt.savefig(\"dl0_cosinus_\"+str(n)+\".png\", bbox_inches='tight')\n",
    "    #plt.close()\n",
    "    #plt.show()\n",
    "\n",
    "def plot_dl_exp(n):\n",
    "    xmin, xmax = -3, 3\n",
    "    plt.xlim(xmin,xmax)\n",
    "    plt.ylim(0,5)\n",
    "    x = np.arange(xmin,xmax,0.1)\n",
    "    y = np.exp(x)\n",
    "    plt.plot(x,y)\n",
    "    plt.grid()\n",
    "    y = dl0_exp(x,n)\n",
    "    plt.plot(x,y)\n",
    "    plt.title(u\"DL de la fonction exponentielle ( n =  \"+str(n) +\")\")\n",
    "    #plt.savefig(\"dl0_cosinus_\"+str(n)+\".png\", bbox_inches='tight')\n",
    "    #plt.close()\n",
    "    #plt.show()\n",
    "    \n",
    "def plot_exp_approx(a0,a1,a2):\n",
    "    xmin, xmax = -3, 3\n",
    "    plt.xlim(xmin,xmax)\n",
    "    plt.ylim(0,5)\n",
    "    x = np.arange(xmin,xmax,0.1)\n",
    "    y = np.exp(x)\n",
    "    plt.plot(x,y)\n",
    "    plt.grid()\n",
    "    y = a0 + a1*x + a2*x**2\n",
    "    plt.plot(x,y)\n",
    "    plt.title(u\"Approximation de la fonction exponentielle\")\n",
    "    #plt.savefig(\"dl0_cosinus_\"+str(n)+\".png\", bbox_inches='tight')\n",
    "    #plt.close()\n",
    "    #plt.show()"
   ]
  },
  {
   "cell_type": "code",
   "execution_count": 3,
   "metadata": {},
   "outputs": [],
   "source": [
    "#interact(plot_dl_cos,n=widgets.IntSlider(min=0, max=10, step=1, value=0,continuous_update=True))"
   ]
  },
  {
   "cell_type": "code",
   "execution_count": 4,
   "metadata": {},
   "outputs": [
    {
     "data": {
      "application/vnd.jupyter.widget-view+json": {
       "model_id": "64437c8380f84b1da9e23f66328a4e99",
       "version_major": 2,
       "version_minor": 0
      },
      "text/plain": [
       "interactive(children=(FloatSlider(value=0.0, description='a0', max=3.0, step=0.5), FloatSlider(value=0.0, desc…"
      ]
     },
     "metadata": {},
     "output_type": "display_data"
    },
    {
     "data": {
      "text/plain": [
       "<function __main__.plot_exp_approx(a0, a1, a2)>"
      ]
     },
     "execution_count": 4,
     "metadata": {},
     "output_type": "execute_result"
    }
   ],
   "source": [
    "interact(plot_exp_approx,a0=widgets.FloatSlider(min=0, max=3, step=0.5, value=0,continuous_update=True),a1=widgets.FloatSlider(min=0, max=3, step=0.5, value=0,continuous_update=True),a2=widgets.FloatSlider(min=0, max=3, step=0.5, value=0,continuous_update=True))"
   ]
  },
  {
   "cell_type": "code",
   "execution_count": 5,
   "metadata": {},
   "outputs": [
    {
     "data": {
      "application/vnd.jupyter.widget-view+json": {
       "model_id": "5d84220d9e37410cb550dad92a47b979",
       "version_major": 2,
       "version_minor": 0
      },
      "text/plain": [
       "interactive(children=(IntSlider(value=0, description='n', max=10), Output()), _dom_classes=('widget-interact',…"
      ]
     },
     "metadata": {},
     "output_type": "display_data"
    },
    {
     "data": {
      "text/plain": [
       "<function __main__.plot_dl_exp(n)>"
      ]
     },
     "execution_count": 5,
     "metadata": {},
     "output_type": "execute_result"
    }
   ],
   "source": [
    "interact(plot_dl_exp,n=widgets.IntSlider(min=0, max=10, step=1, value=0,continuous_update=True))"
   ]
  },
  {
   "cell_type": "code",
   "execution_count": null,
   "metadata": {},
   "outputs": [],
   "source": []
  },
  {
   "cell_type": "code",
   "execution_count": null,
   "metadata": {},
   "outputs": [],
   "source": []
  }
 ],
 "metadata": {
  "kernelspec": {
   "display_name": "Python 3",
   "language": "python",
   "name": "python3"
  },
  "language_info": {
   "codemirror_mode": {
    "name": "ipython",
    "version": 3
   },
   "file_extension": ".py",
   "mimetype": "text/x-python",
   "name": "python",
   "nbconvert_exporter": "python",
   "pygments_lexer": "ipython3",
   "version": "3.8.3"
  }
 },
 "nbformat": 4,
 "nbformat_minor": 4
}
