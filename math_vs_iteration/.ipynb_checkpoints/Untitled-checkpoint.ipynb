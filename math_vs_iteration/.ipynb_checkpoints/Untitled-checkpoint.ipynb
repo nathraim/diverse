{
 "cells": [
  {
   "cell_type": "markdown",
   "metadata": {},
   "source": [
    "\n",
    "Nous cherchons à calculer la somme suivante :\n",
    "$$S = \\sum_i^n\\sum_j^p(i+j)$$\n",
    "Une programmation \"naïve\" donnerait quelque chose comme ça :"
   ]
  },
  {
   "cell_type": "code",
   "execution_count": 2,
   "metadata": {},
   "outputs": [
    {
     "name": "stdout",
     "output_type": "stream",
     "text": [
      "La somme itérée (O(n^2)) est  495\n"
     ]
    }
   ],
   "source": [
    "n,p = 11,5\n",
    "sumij = 0\n",
    "for i in range(1,n+1,1):\n",
    "    for j in range(1,p+1,1):\n",
    "        sumij += i+j\n",
    "print(\"La somme itérée est \",sumij)\n",
    "\n"
   ]
  },
  {
   "cell_type": "markdown",
   "metadata": {},
   "source": [
    "Cependant, il est possible, avant tout codage, de manipuler la somme de départ pour l'exprimer directement en fonction de $n$ et $p$. On trouve alors $S = np(n+p+2)$. On vérifie sur un exemple simple que les deux résultats sont identiques (heureusement !)."
   ]
  },
  {
   "cell_type": "code",
   "execution_count": 4,
   "metadata": {},
   "outputs": [
    {
     "name": "stdout",
     "output_type": "stream",
     "text": [
      "La formule mathématique (O(1)) donne  495\n"
     ]
    }
   ],
   "source": [
    "math_formula = n*p*(n+p+2)//2\n",
    "print(\"La formule mathématique (O(1)) donne \",math_formula)"
   ]
  },
  {
   "cell_type": "markdown",
   "metadata": {},
   "source": [
    "Alors quelle différence entre ces deux méthodes, puisqu'elles donnent le même résultat ?\n",
    "La différence, c'est, en plus de la lisibilité de la formule mathématique, sa rapidité.\n",
    " (O(n^2))"
   ]
  },
  {
   "cell_type": "code",
   "execution_count": null,
   "metadata": {},
   "outputs": [],
   "source": []
  }
 ],
 "metadata": {
  "kernelspec": {
   "display_name": "Python 3",
   "language": "python",
   "name": "python3"
  },
  "language_info": {
   "codemirror_mode": {
    "name": "ipython",
    "version": 3
   },
   "file_extension": ".py",
   "mimetype": "text/x-python",
   "name": "python",
   "nbconvert_exporter": "python",
   "pygments_lexer": "ipython3",
   "version": "3.8.3"
  }
 },
 "nbformat": 4,
 "nbformat_minor": 4
}
