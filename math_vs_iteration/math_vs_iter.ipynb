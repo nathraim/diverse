{
 "cells": [
  {
   "cell_type": "markdown",
   "metadata": {},
   "source": [
    "\n",
    "Nous cherchons à calculer la somme suivante :\n",
    "$$S_{np} = \\sum_{i=1}^n\\sum_{j=1}^p(i+j)$$\n",
    "Une programmation \"naïve\" donnerait quelque chose comme ça :"
   ]
  },
  {
   "cell_type": "code",
   "execution_count": 22,
   "metadata": {},
   "outputs": [],
   "source": [
    "def sum_naive(n,p):\n",
    "    sumnp = 0\n",
    "    for i in range(1,n+1,1):\n",
    "        for j in range(1,p+1,1):\n",
    "            sumnp += i+j\n",
    "    print(\"La somme itérée est \",sumnp)\n",
    "    #return sumnp\n"
   ]
  },
  {
   "cell_type": "code",
   "execution_count": 23,
   "metadata": {},
   "outputs": [
    {
     "name": "stdout",
     "output_type": "stream",
     "text": [
      "La somme itérée est  1001000000\n"
     ]
    }
   ],
   "source": [
    "sum_naive(1000,1000)"
   ]
  },
  {
   "cell_type": "markdown",
   "metadata": {},
   "source": [
    "Cependant, il est possible, avant tout codage, de manipuler la somme de départ pour l'exprimer directement en fonction de $n$ et $p$. On trouve alors $$S = \\frac{np(n+p+2)}{2} .$$ On vérifie sur un exemple simple que les deux résultats sont identiques (heureusement !)."
   ]
  },
  {
   "cell_type": "code",
   "execution_count": 24,
   "metadata": {},
   "outputs": [],
   "source": [
    "def sum_math(n,p):\n",
    "    result = n*p*(n+p+2)//2\n",
    "    print(\"La formule mathématique donne \",result)\n",
    "    #return result"
   ]
  },
  {
   "cell_type": "code",
   "execution_count": 27,
   "metadata": {},
   "outputs": [
    {
     "name": "stdout",
     "output_type": "stream",
     "text": [
      "La formule mathématique donne  1001000000\n"
     ]
    }
   ],
   "source": [
    "sum_math(1000,1000)"
   ]
  },
  {
   "cell_type": "markdown",
   "metadata": {},
   "source": [
    "Alors quelle différence entre ces deux méthodes, puisqu'elles donnent le même résultat ?\n",
    "La différence est, en plus de la lisibilité de la formule mathématique, sa rapidité.\n",
    "Simplifions légèrement le problème en supposant que $n=p$.\n",
    "La méthode itérative nécessite, à chaque itération, de réaliser une addition, et il y a en tout $n*n=n^2$ itérations. On dit que le complexité du programme est $O(n^2)$, c'est-à-dire que le temps de calcul est proportionnel à $n^2$. Ainsi, si le nombre $n$ de termes est multiplié par 2, le temps de calcul sera multiplié par 4 !\n",
    "\n",
    "La méthode mathématique, quant à elle, ne nécessite que 2 multiplications, 2 additions et 1 division, soit 5 opérations, et ce quel que soit $n$ ! Le temps de calcul est donc constant : il est (presque...) aussi rapide de calculer $S_{nn}$ pour $n=1$ que pour $n=10000000$. On dit que la complexité du programme, dans ce cas, est $O(1)$."
   ]
  },
  {
   "cell_type": "code",
   "execution_count": null,
   "metadata": {},
   "outputs": [],
   "source": []
  }
 ],
 "metadata": {
  "kernelspec": {
   "display_name": "Python 3",
   "language": "python",
   "name": "python3"
  },
  "language_info": {
   "codemirror_mode": {
    "name": "ipython",
    "version": 3
   },
   "file_extension": ".py",
   "mimetype": "text/x-python",
   "name": "python",
   "nbconvert_exporter": "python",
   "pygments_lexer": "ipython3",
   "version": "3.8.3"
  }
 },
 "nbformat": 4,
 "nbformat_minor": 4
}
