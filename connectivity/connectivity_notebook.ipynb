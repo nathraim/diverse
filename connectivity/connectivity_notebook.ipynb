{
 "cells": [
  {
   "cell_type": "markdown",
   "metadata": {},
   "source": [
    "# Path in a graph\n",
    "## Understanding via visualization\n",
    "#### Nathaniel Raimbault, May 2019"
   ]
  },
  {
   "cell_type": "markdown",
   "metadata": {},
   "source": [
    "# Aim of this app\n",
    "The aim of this app is to:\n",
    "- Draw links between nodes based on a (2D) distance threshold\n",
    "- Visualize whether a path exists between two given nodes\n",
    "\n",
    "\n",
    "Read the _tasks_ below and play with the sliders to see the result!"
   ]
  },
  {
   "cell_type": "markdown",
   "metadata": {},
   "source": [
    "# Find a path between 2 points\n",
    "Given the coordinates of a set of points on the plane, we consider a link between two points\n",
    "if their distance is below a given threshold (obtaining in this way an undirected graph).\n",
    "Then, for a given pair of points, we want to know whether this pair is connected or not through a path in the graph."
   ]
  },
  {
   "cell_type": "markdown",
   "metadata": {},
   "source": [
    "# Tasks\n",
    "- <span style=\"color: #cc0000\">Move the sliders below and look at the results.</span>\n",
    "- <span style=\"color: #cc0000\">For a given number of points, see how the number of links varies with the threshold value.</span>\n",
    "- <span style=\"color: #cc0000\">See how the probability of finding a path between two nodes depends on the number of links and the number of points (the size of the box is fixed)</span>\n",
    "- <span style=\"color: #cc0000\">Understand the algorithm that determines whether a path exists</span>\n"
   ]
  },
  {
   "cell_type": "markdown",
   "metadata": {},
   "source": [
    "# Visualization\n",
    "With the following selectors, you can pick:\n",
    "- the number $N$ of points in your graph\n",
    "- the distance threshold for determining whether or not a link exists between 2 points\n",
    "- the pair of point you want to find a path for"
   ]
  },
  {
   "cell_type": "code",
   "execution_count": 1,
   "metadata": {},
   "outputs": [],
   "source": [
    "import math\n",
    "import numpy as np\n",
    "import bqplot.pyplot as pl\n",
    "import json\n",
    "import time"
   ]
  },
  {
   "cell_type": "code",
   "execution_count": 2,
   "metadata": {},
   "outputs": [],
   "source": [
    "def get_dist_vect(p_, q_): # Calculates distance between 2 points\n",
    "    return np.sqrt(np.sum((p_-q_)**2,axis=2))\n",
    "\n",
    "def generate_pts(number_of_points,max_spatial_extent):\n",
    "    pts = np.random.uniform(-max_spatial_extent,max_spatial_extent, size=(number_of_points,2))\n",
    "    return pts\n",
    "\n",
    "def get_connect(pts,threshold,pairs,algo_type):\n",
    "\n",
    "    N = len(pts)\n",
    "    \n",
    "    # 1) Find all links    \n",
    "    \n",
    "    # Calculate all distances between all points and store them into a matrix, the indices of which will correspond to the points' ids\n",
    "    i_, j_ = np.ogrid[:N,:N]\n",
    "    dist_mat = get_dist_vect(pts[i_],pts[j_])\n",
    "    \n",
    "    # Create list of links which will contain all the links between points.\n",
    "    links_list = [[i] for i in range(N)] # Initially, we just know each node is linked with itself\n",
    "    \n",
    "    # Loop over matrix of distances and check whether or not its elements are below the threshold\n",
    "    for i_,row in enumerate(dist_mat):\n",
    "        for j_,col in enumerate(row[i_:]):\n",
    "            if (col < threshold and col > 0):\n",
    "                links_list[i_].append(i_+j_) # Add id of the connected point...\n",
    "                links_list[i_+j_].append(i_) # ...and its symmetric counterpart\n",
    "    \n",
    "    # 2) Find whether path exists\n",
    "       \n",
    "    booleans_list = [] # Will contain a list of booleans, telling if a path exists between 2 given points\n",
    "    \n",
    "    # Run through all given pairs of points\n",
    "    for pair in pairs:\n",
    "        frontier = [pair[0]] # Will correspond to all the points to explore at a given step of the procedure. Here initialized to the first element of the pair\n",
    "        all_nodes = [] # Will contain all the nodes already visited\n",
    "        seg_visited_x = []\n",
    "        seg_visited_y = []\n",
    "        found = False # Boolean to state if there is a path between 2 nodes or not\n",
    "    \n",
    "        while (frontier): # Continue as long as \"frontier\" is not empty\n",
    "            next_ = [] # Will contain the points to explore for the next step of the procedure\n",
    "            # Loop over the points in \"frontier\"\n",
    "            for u in frontier:\n",
    "              # Check if the second element of the pair is present in the points linked to u\n",
    "                if (pair[1] in links_list[u]):\n",
    "                    found = True\n",
    "                    next_= []\n",
    "                    all_nodes.append(pair[0])\n",
    "                    seg_visited_x = np.append(seg_visited_x,[pts[u,0],pts[pair[1],0],None]) # Order of the segments visited\n",
    "                    seg_visited_y = np.append(seg_visited_y,[pts[u,1],pts[pair[1],1],None]) # Order of the segments visited \n",
    "                    break\n",
    "                else:\n",
    "                    # Loop over the points linked to \"u\"\n",
    "                    for v in links_list[u]:\n",
    "                        seg_visited_x = np.append(seg_visited_x,[pts[u,0],pts[v,0],None]) # Order of the segments visited\n",
    "                        seg_visited_y = np.append(seg_visited_y,[pts[u,1],pts[v,1],None]) # Order of the segments visited  \n",
    "                        if (v not in all_nodes): # Avoid replicas by adding only points not yet visited\n",
    "                            all_nodes.append(v) # Keep a trace of all the nodes we have visited\n",
    "                            next_.append(v) # At the next iteration we will explore the points we have not explored yet\n",
    "            frontier = next_\n",
    "      \n",
    "        booleans_list.append(found)\n",
    "    \n",
    "    return links_list,all_nodes,booleans_list,seg_visited_x,seg_visited_y"
   ]
  },
  {
   "cell_type": "code",
   "execution_count": 3,
   "metadata": {},
   "outputs": [],
   "source": [
    "from ipywidgets import Accordion, IntSlider, FloatSlider, HTMLMath, Dropdown, Box, HBox, VBox, Layout\n",
    "from IPython.display import display\n",
    "\n",
    "n_widget = IntSlider(value=20, min=2, max=200, description = \"$N$\", continuous_update=False)\n",
    "\n",
    "n_threshold_widget = FloatSlider(value=0.0, min=0, max=600, description = r\"$\\text{threshold}$\", continuous_update=False)\n",
    "n_threshold_widget2 = FloatSlider(value=0.0, min=0, max=600, description = r\"$\\text{threshold}$\", continuous_update=False)\n",
    "\n",
    "type_widget = Dropdown(options=(\n",
    "        (\"Algorithm 1\",\"algorithm1\"),\n",
    "    ), \n",
    "    description = \"Algorithm type\", continuous_update=False, layout=Layout(width='250px'))\n",
    "n_pair1_widget = IntSlider(value=0, min=0, max=n_widget.value-1, description = r\"First node\", continuous_update=False)\n",
    "n_pair2_widget = IntSlider(value=1, min=0, max=n_widget.value-1, description = r\"Second node\", continuous_update=False)\n",
    "\n",
    "result_plot = pl.figure()\n",
    "result_plot2 = pl.figure()\n",
    "graph_description = HTMLMath(value=\"\")\n",
    "graph_description2 = HTMLMath(value=\"\")\n",
    "\n",
    "def update_pairs_range(*args):\n",
    "    n_pair1_widget.max = n_widget.value-1\n",
    "    n_pair2_widget.max = n_widget.value-1\n",
    "n_widget.observe(update_pairs_range, 'value')\n",
    "\n",
    "\n"
   ]
  },
  {
   "cell_type": "code",
   "execution_count": 4,
   "metadata": {},
   "outputs": [],
   "source": [
    "#On call, this function will generate a set of points and store them as a global variable passed in several other functions\n",
    "def on_func_change(change):\n",
    "    global pt\n",
    "    pt = generate_pts(\n",
    "        number_of_points=n_widget.value, \n",
    "        max_spatial_extent=500)\n",
    "    on_graph_params_change_nopath(None)\n",
    "n_widget.observe(on_func_change)\n",
    "# on_func_change(None)"
   ]
  },
  {
   "cell_type": "code",
   "execution_count": 5,
   "metadata": {},
   "outputs": [],
   "source": [
    "def on_graph_params_change_nopath(change):\n",
    "#     global pt\n",
    "#     pt = generate_pts(\n",
    "#         number_of_points=n_widget.value, \n",
    "#         max_spatial_extent=500)\n",
    "    \n",
    "    links_list, _, booleans_list, _,_ = get_connect(\n",
    "        pt, \n",
    "        threshold=n_threshold_widget.value,\n",
    "        pairs=[[n_pair1_widget.value,n_pair2_widget.value]],\n",
    "        algo_type=type_widget.value)\n",
    "    \n",
    "    segments_x = []\n",
    "    segments_y = []\n",
    "    for i,neighbours in enumerate(links_list):\n",
    "        for node in neighbours[1:]:\n",
    "            segments_x = np.append(segments_x,[pt[i,0],pt[node,0],None])\n",
    "            segments_y = np.append(segments_y,[pt[i,1],pt[node,1],None])\n",
    "    \n",
    "    description_string = (r\"<strong>N</strong>: number of nodes<br>\"\n",
    "            r\"<strong>threshold</strong>: distance threshold for determining whether 2 nodes have a direct link<br>\")\n",
    "\n",
    "    graph_description.value = description_string\n",
    "    pl.figure(fig=result_plot)\n",
    "    result_plot.legend_location = 'top-left'\n",
    "    pl.clear()\n",
    "    #reverse_options_map = {_[1]: _[0] for _ in type_widget.options}\n",
    "    pl.title('Connectivity graph')\n",
    "    pl.legend()\n",
    "    \n",
    "    #pl.plot(pt[:,0],pt[:,1], 'ro',labels=[\"pts\"], colors=[\"#ff0000\"])\n",
    "    scatt=pl.scatter(pt[:,0],pt[:,1], labels=[\"pts\"], default_size=150,colors=[\"white\"],stroke='black',names=[str(j) for j,_ in enumerate(pt)])\n",
    "    global seg_pl0\n",
    "    seg_pl0=pl.plot(segments_x,segments_y,labels=[\"links\"])\n",
    "    #seg_pl=pl.plot([100,200,None,5,90],[100,300,None,200,400])\n",
    "    #return seg_pl0\n",
    "\n",
    "def on_segments_change0(change):\n",
    "    links_list, _, booleans_list,_,_ = get_connect(\n",
    "        pt, \n",
    "        threshold=n_threshold_widget.value,\n",
    "        pairs=[[0,0]],\n",
    "        algo_type=type_widget.value)\n",
    "\n",
    "    segments_x = []\n",
    "    segments_y = []\n",
    "    for i,neighbours in enumerate(links_list):\n",
    "        for node in neighbours[1:]:\n",
    "            segments_x = np.append(segments_x,[pt[i,0],pt[node,0],None])\n",
    "            segments_y = np.append(segments_y,[pt[i,1],pt[node,1],None])\n",
    "    \n",
    "    seg_pl0.x=segments_x\n",
    "    seg_pl0.y=segments_y\n",
    "\n",
    "#n_widget.observe(on_graph_params_change_nopath, names='value', type='change')\n",
    "#n_threshold_widget.observe(on_graph_params_change_nopath, names='value', type='change')\n",
    "n_threshold_widget.observe(on_segments_change0, names='value', type='change')\n",
    "\n",
    "# Create the plot\n",
    "#on_func_change(None)\n",
    "#on_graph_params_change_nopath(None)"
   ]
  },
  {
   "cell_type": "code",
   "execution_count": 6,
   "metadata": {},
   "outputs": [],
   "source": [
    "# Create the plot\n",
    "on_func_change(None)"
   ]
  },
  {
   "cell_type": "code",
   "execution_count": 7,
   "metadata": {},
   "outputs": [
    {
     "data": {
      "application/vnd.jupyter.widget-view+json": {
       "model_id": "9bbac8cf5da040a9b9c9610b615dd1bb",
       "version_major": 2,
       "version_minor": 0
      },
      "text/plain": [
       "Box(children=(VBox(children=(IntSlider(value=20, continuous_update=False, description='$N$', max=200, min=2), …"
      ]
     },
     "metadata": {},
     "output_type": "display_data"
    }
   ],
   "source": [
    "display(Box([\n",
    "        VBox([n_widget,n_threshold_widget], layout=Layout(width='350px')),\n",
    "        VBox([graph_description], layout=Layout(min_width='300px')),\n",
    "    ], layout=Layout(width='100%', flex_flow='row wrap', display='flex')))"
   ]
  },
  {
   "cell_type": "code",
   "execution_count": 8,
   "metadata": {},
   "outputs": [
    {
     "data": {
      "application/vnd.jupyter.widget-view+json": {
       "model_id": "a93b7c1cd4674c1c9608e06aa53882c7",
       "version_major": 2,
       "version_minor": 0
      },
      "text/plain": [
       "Box(children=(Figure(axes=[Axis(scale=LinearScale()), Axis(orientation='vertical', scale=LinearScale())], fig_…"
      ]
     },
     "metadata": {},
     "output_type": "display_data"
    }
   ],
   "source": [
    "result_plot.layout.min_width = '800px'\n",
    "result_plot.layout.max_width = '800px'\n",
    "result_plot.layout.min_height = '800px'\n",
    "result_plot.layout.max_height = '800px'\n",
    "display(Box(children=[result_plot], layout=Layout(justify_content='center')))"
   ]
  },
  {
   "cell_type": "markdown",
   "metadata": {},
   "source": [
    "# Find a path\n",
    "Now you (well, at least I ;)) want to know if a path exists between 2 nodes. This is taken care of by the second part of the function _get_connect_ defined earlier.\n",
    "\n",
    "We define almost the same plotting function as before, but now we color progressively the nodes explored by the algorithm.\n",
    "Move the cursors to relaunch the animation."
   ]
  },
  {
   "cell_type": "code",
   "execution_count": 9,
   "metadata": {},
   "outputs": [],
   "source": [
    "def on_graph_params_change(change):\n",
    "    links_list, all_nodes,booleans_list,seg_visited_x,seg_visited_y = get_connect(\n",
    "        pt, \n",
    "        threshold=n_threshold_widget2.value,\n",
    "        pairs=[[n_pair1_widget.value,n_pair2_widget.value]],\n",
    "        algo_type=type_widget.value)\n",
    "    \n",
    "    segments_x = []\n",
    "    segments_y = []\n",
    "    for i,neighbours in enumerate(links_list):\n",
    "        for node in neighbours[1:]:\n",
    "            segments_x = np.append(segments_x,[pt[i,0],pt[node,0],None])\n",
    "            segments_y = np.append(segments_y,[pt[i,1],pt[node,1],None])\n",
    "    \n",
    "    description_string = (\n",
    "            r\"<strong>threshold</strong>: distance threshold for determining whether 2 nodes have a direct link<br>\"\n",
    "            r\"<strong>First node, second node</strong>: pair of nodes you want to determine a path for<br>\")\n",
    "\n",
    "    graph_description2.value = description_string\n",
    "    pl.figure(fig=result_plot2)\n",
    "    result_plot.legend_location = 'top-left'\n",
    "    pl.clear()\n",
    "    reverse_options_map = {_[1]: _[0] for _ in type_widget.options}\n",
    "    pl.title('Connectivity graph')\n",
    "    pl.legend()\n",
    "    \n",
    "    #pl.plot(pt[:,0],pt[:,1], 'ro',labels=[\"pts\"], colors=[\"#ff0000\"])\n",
    "    scatt=pl.scatter(pt[:,0],pt[:,1], labels=[\"pts\"], default_size=150,colors=[\"white\"],stroke='black',names=[str(j) for j,_ in enumerate(pt)])\n",
    "    global seg_pl\n",
    "    seg_pl=pl.plot(segments_x,segments_y,labels=[\"links\"])\n",
    "    #seg_pl=pl.plot([100,200,None,5,90],[100,300,None,200,400])\n",
    "    #pl.plot(seg_visited_x,seg_visited_y,labels=[\"links\"],colors=[\"green\"])\n",
    "#     for i in range(0,len(seg_visited_x),3):\n",
    "#         pl.plot([seg_visited_x[i:i+2]],[seg_visited_y[i:i+2]],labels=[\"links\"],colors=[\"green\"])\n",
    "#         #scatt2=pl.scatter([pt[i,0]],[pt[i,1]],default_size=150, colors=[\"green\"])\n",
    "#         time.sleep(1/n_widget.value)\n",
    "        \n",
    "    for i,node in enumerate(all_nodes):\n",
    "        scatt2=pl.scatter([pt[node,0]],[pt[node,1]],default_size=150, colors=[\"green\"])\n",
    "        time.sleep(15/n_widget.value)\n",
    "    if (booleans_list[0]):\n",
    "        pl.scatter([pt[n_pair2_widget.value,0]],[pt[n_pair2_widget.value,1]],default_size=150,colors=[\"green\"])\n",
    "        pl.label([\"Path found between nodes {} and {} :-)\".format(str(n_pair1_widget.value),str(n_pair2_widget.value))],x=[-200],y=[0],colors=[\"black\"])\n",
    "    else:\n",
    "        pl.label([\"No path found between nodes {} and {} :-(\".format(str(n_pair1_widget.value),str(n_pair2_widget.value))],x=[-200],y=[0],colors=[\"black\"])\n",
    "\n",
    "# def on_segments_change(change):\n",
    "#     links_list, _, booleans_list = get_connect(\n",
    "#         pt, \n",
    "#         threshold=n_threshold_widget2.value,\n",
    "#         pairs=[[0,0]],\n",
    "#         algo_type=type_widget.value)\n",
    "\n",
    "#     segments_x = []\n",
    "#     segments_y = []\n",
    "#     for i,neighbours in enumerate(links_list):\n",
    "#         for node in neighbours[1:]:\n",
    "#             segments_x = np.append(segments_x,[pt[i,0],pt[node,0],None])\n",
    "#             segments_y = np.append(segments_y,[pt[i,1],pt[node,1],None])\n",
    "    \n",
    "#     seg_pl.x=segments_x\n",
    "#     seg_pl.y=segments_y\n",
    "        \n",
    "n_widget.observe(on_graph_params_change, names='value', type='change')\n",
    "#n_threshold_widget2.observe(on_segments_change, names='value', type='change')\n",
    "n_threshold_widget2.observe(on_graph_params_change, names='value', type='change')\n",
    "type_widget.observe(on_graph_params_change, names='value', type='change')\n",
    "n_pair1_widget.observe(on_graph_params_change, names='value', type='change')\n",
    "n_pair2_widget.observe(on_graph_params_change, names='value', type='change')\n",
    "# Create the plot\n",
    "on_graph_params_change(None)"
   ]
  },
  {
   "cell_type": "code",
   "execution_count": 10,
   "metadata": {
    "scrolled": true
   },
   "outputs": [
    {
     "data": {
      "application/vnd.jupyter.widget-view+json": {
       "model_id": "2e1bf0c1b3f0422cb1f90418078c09ae",
       "version_major": 2,
       "version_minor": 0
      },
      "text/plain": [
       "Box(children=(VBox(children=(FloatSlider(value=0.0, continuous_update=False, description='$\\\\text{threshold}$'…"
      ]
     },
     "metadata": {},
     "output_type": "display_data"
    }
   ],
   "source": [
    "display(Box([\n",
    "        VBox([n_threshold_widget2,n_pair1_widget,n_pair2_widget, type_widget], layout=Layout(width='350px')),\n",
    "        VBox([graph_description2], layout=Layout(min_width='300px')),\n",
    "    ], layout=Layout(width='100%', flex_flow='row wrap', display='flex')))"
   ]
  },
  {
   "cell_type": "code",
   "execution_count": 11,
   "metadata": {},
   "outputs": [
    {
     "data": {
      "application/vnd.jupyter.widget-view+json": {
       "model_id": "02753bfb8e9c43768d534d1780887d97",
       "version_major": 2,
       "version_minor": 0
      },
      "text/plain": [
       "Box(children=(Figure(axes=[Axis(scale=LinearScale()), Axis(orientation='vertical', scale=LinearScale())], fig_…"
      ]
     },
     "metadata": {},
     "output_type": "display_data"
    }
   ],
   "source": [
    "result_plot2.layout.min_width = '800px'\n",
    "result_plot2.layout.max_width = '800px'\n",
    "result_plot2.layout.min_height = '800px'\n",
    "result_plot2.layout.max_height = '800px'\n",
    "display(Box(children=[result_plot2], layout=Layout(justify_content='center')))"
   ]
  },
  {
   "cell_type": "markdown",
   "metadata": {},
   "source": [
    "# Different algorithms\n",
    "You can now try to understand how the algorithm works. You can do this in several ways:\n",
    "- By looking directly at the function get_connect\n",
    "- By looking at the series of illuminated green nodes and deduce the pattern\n",
    "- By looking at the reference provided. This algorithm is known as breadth-first search (BFS).\n",
    "\n",
    "You have seen that the Dropdown menu contains a single entry called \"Algorithm 1\".\n",
    "If you have understood how the present algorithm works, you can think of another way to find a path between nodes. Alternatively, you could also try to implement an already-existing algorithm, and add it to the list of possible algorithms, and compare which one is the faster to find a path.\n",
    "\n",
    "Such algorithms have many practical applications (road networks -google map-, path-findings in video games, Rubik's cube solver, etc.)\n"
   ]
  },
  {
   "cell_type": "markdown",
   "metadata": {},
   "source": [
    "# References\n",
    "[1] https://en.wikipedia.org/wiki/Breadth-first_search"
   ]
  },
  {
   "cell_type": "code",
   "execution_count": 12,
   "metadata": {},
   "outputs": [],
   "source": [
    "#from IPython.core.display import display, HTML\n",
    "#display(HTML(\"<style>.container { width:100% !important; }</style>\"))"
   ]
  }
 ],
 "metadata": {
  "kernelspec": {
   "display_name": "Python 3",
   "language": "python",
   "name": "python3"
  },
  "language_info": {
   "codemirror_mode": {
    "name": "ipython",
    "version": 3
   },
   "file_extension": ".py",
   "mimetype": "text/x-python",
   "name": "python",
   "nbconvert_exporter": "python",
   "pygments_lexer": "ipython3",
   "version": "3.7.3"
  }
 },
 "nbformat": 4,
 "nbformat_minor": 2
}
